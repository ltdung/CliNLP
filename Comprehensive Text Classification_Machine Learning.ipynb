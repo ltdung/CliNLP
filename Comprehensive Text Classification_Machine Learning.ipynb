{
 "cells": [
  {
   "cell_type": "markdown",
   "metadata": {},
   "source": [
    "## Machine learning-based natural language processing to detect concept labels in clinical narratives\n",
    "\n",
    "### Thanh-Dung Le\n",
    "Laboratoire de traitement de l'information en santé (LATIS)\n",
    "\n",
    "Department of Electrical Engineering \n",
    "\n",
    "École de Technologie supérieure (ÉTS)\n",
    "\n"
   ]
  },
  {
   "cell_type": "markdown",
   "metadata": {},
   "source": [
    "#### Required Python Packages"
   ]
  },
  {
   "cell_type": "code",
   "execution_count": 44,
   "metadata": {},
   "outputs": [],
   "source": [
    "import random \n",
    "random.seed(0)\n",
    "import os\n",
    "import glob\n",
    "import pickle\n",
    "import xgboost, textblob, string\n",
    "import numpy as np\n",
    "import pandas as pd\n",
    "from pandas import read_excel\n",
    "import itertools \n",
    "import matplotlib\n",
    "matplotlib.use('TkAgg')   \n",
    "import matplotlib.pyplot as plt\n",
    "%matplotlib inline\n",
    "\n",
    "from sklearn.utils import shuffle\n",
    "from sklearn import model_selection, preprocessing, linear_model, naive_bayes, metrics, svm\n",
    "from sklearn.model_selection import train_test_split\n",
    "from sklearn.feature_extraction.text import TfidfVectorizer, CountVectorizer\n",
    "from sklearn import decomposition, ensemble\n",
    "\n",
    "from keras.preprocessing import text, sequence\n",
    "from keras import layers, models, optimizers\n",
    "from keras.models import Sequential\n"
   ]
  },
  {
   "cell_type": "markdown",
   "metadata": {},
   "source": [
    "#### 1. Data Loading and Labeling"
   ]
  },
  {
   "cell_type": "code",
   "execution_count": 14,
   "metadata": {},
   "outputs": [
    {
     "name": "stdout",
     "output_type": "stream",
     "text": [
      "Disease history notes for negative cases:\n",
      "                                               Notes  Label\n",
      "0  Statut post-op de trachéostomie et reprise cur...      0\n",
      "1  Pte admise x 11/06 pour dlr thoracique/dyspnée...      0\n",
      "2  pte présente RGO + dlr thoracique/sensation de...      0\n",
      "3  Césarienne d'urgence pour détresse fétale le 1...      0\n",
      "4  Intubation avec TET 7.5 - facile, grade I  Ind...      0\n",
      "\n",
      "Disease history notes for positive cases:\n",
      "HD Medication:\n",
      "                                               Notes  Label\n",
      "0  PO immédiat de Lefort (chx mandibule) avec att...      1\n",
      "1  Sur le plan anesthesique :  induction sufenta/...      1\n",
      "2  SOP ce jour, Dr Vobecky, dr ruest anesthesie s...      1\n",
      "3  Rupture amoureuse récente, mais désir de mouri...      1\n",
      "4  Patiente a été en KT 20/10 pour installation s...      1\n",
      "\n",
      "HD problem CV:\n",
      "                                               Notes  Label\n",
      "0  Actuellement hospitalisé en cardiologie. - Se ...      1\n",
      "1  dernière visite vendredi 15/04 en cardiologie ...      1\n",
      "2  Histoire de Sx d'IVRS avec toux et rhinorrhée ...      1\n",
      "3  Vue en vie à 21h20 Retrouvée par parents pendu...      1\n",
      "4  Semaine derniere: un malaise à l'école avec li...      1\n",
      "\n",
      "HD proBNP:\n",
      "                                               Notes  Label\n",
      "0  Chirurgie (Dre Vobecky)  Dissection difficile ...      1\n",
      "1  #Présentation en choc septique à St-Georges ( ...      1\n",
      "2  Actuellement hospitalisé en cardiologie. - Se ...      1\n",
      "3  Cas discuté à la réunion Mx/Chx 03 novembre 20...      1\n",
      "4  Fille de 14 ans, connu pour cardiomyopathie di...      1\n",
      "\n",
      "Data after shuffling\n",
      "                                                  Notes  Label\n",
      "2198  Amydalecctomie, tubes de myringotomie bilatéra...      0\n",
      "4126  x 5 jours sx IVRS avec toux sèche progressive ...      0\n",
      "1097  Intubation grade 1 TET 5.5 fixer a 16 cm 20 g ...      0\n",
      "555   Suivie régulière par infirmière d'allaitement ...      1\n",
      "2578  # Enfant en BS ad hier # Ce am, DEG, fatigue, ...      0\n",
      "815   Plastie de la valve aortique avec patch sous l...      0\n",
      "598   Prise en charge chirurgicale ce jour. Anesthés...      1\n",
      "282   Sx de toux et de difficultés respiratoires X 1...      0\n",
      "4148  le 31/01, chaude, mais pas de temp objectivee ...      0\n",
      "86    Anesthésie \\t- IOT grade I. TET 5.0 mc. \\t- Ma...      1\n"
     ]
    }
   ],
   "source": [
    "#Data loading\n",
    "#Negative cases from disease history notes\n",
    "CHUSJ_neg = read_excel('data/neg/DiseaseHistory.xlsx')\n",
    "CHUSJ_neg.columns = ['Notes', 'Label']\n",
    "\n",
    "#Positive cases from disease history notes\n",
    "CHUSJ_pos_med = read_excel('data/pos/HDmedication.xlsx')\n",
    "CHUSJ_pos_med.columns = ['Notes', 'Label']\n",
    "CHUSJ_pos_cv = read_excel('data/pos/HDproblemeCV.xlsx')\n",
    "CHUSJ_pos_cv.columns = ['Notes', 'Label']\n",
    "CHUSJ_pos_bnp = read_excel('data/pos/HDproBNP.xlsx')\n",
    "CHUSJ_pos_bnp.columns = ['Notes', 'Label']\n",
    "\n",
    "print(\"Disease history notes for negative cases:\")\n",
    "print(CHUSJ_neg.head())\n",
    "print (\"\")\n",
    "print(\"Disease history notes for positive cases:\")\n",
    "print (\"HD Medication:\")\n",
    "print(CHUSJ_pos_med.head())\n",
    "print (\"\")\n",
    "print (\"HD problem CV:\")\n",
    "print(CHUSJ_pos_cv.head())\n",
    "print (\"\")\n",
    "print (\"HD proBNP:\")\n",
    "print(CHUSJ_pos_bnp.head())\n",
    "print (\"\")\n",
    "frames = [CHUSJ_neg, CHUSJ_pos_med, CHUSJ_pos_cv, CHUSJ_pos_bnp]\n",
    "data = pd.concat(frames)\n",
    "\n",
    "#Randomly shuffle the data\n",
    "data = shuffle(data)\n",
    "print('Data after shuffling')\n",
    "print(data.head(10))"
   ]
  },
  {
   "cell_type": "markdown",
   "metadata": {},
   "source": [
    "#### Split the dataset into training and validation datasets "
   ]
  },
  {
   "cell_type": "code",
   "execution_count": 15,
   "metadata": {},
   "outputs": [],
   "source": [
    "sentences_train, sentences_test, y_train, y_test = train_test_split(data.Notes, data.Label, test_size=0.4, random_state=0)"
   ]
  },
  {
   "cell_type": "markdown",
   "metadata": {},
   "source": [
    "#### 2. Feature Engineering\n",
    "\n",
    "We will implement the following different ideas in order to obtain relevant features from our dataset.\n",
    "\n",
    "2.1 Count Vectors as features\n",
    "\n",
    "2.2 TF-IDF Vectors as features\n",
    "\n",
    "    2.2.1 Word level\n",
    "\n",
    "    2.2.2 N-Gram level\n",
    "\n",
    "    2.2.3 Character level"
   ]
  },
  {
   "cell_type": "markdown",
   "metadata": {},
   "source": [
    "##### 2.1 Count Vector as Features"
   ]
  },
  {
   "cell_type": "code",
   "execution_count": 24,
   "metadata": {},
   "outputs": [],
   "source": [
    "vectorizer = CountVectorizer()\n",
    "vectorizer.fit(data.Notes)\n",
    "\n",
    "Xtrain_count = vectorizer.transform(sentences_train)\n",
    "Xtest_count  = vectorizer.transform(sentences_test)"
   ]
  },
  {
   "cell_type": "markdown",
   "metadata": {},
   "source": [
    "#### 2.2 TF-IDF Vectors as features\n",
    "a. **Word Level TF-IDF** : Matrix representing tf-idf scores of every term in different documents\n",
    "\n",
    "b. **N-gram Level TF-IDF** : N-grams are the combination of N terms together. This Matrix representing tf-idf scores of N-grams\n",
    "\n",
    "c. **Character Level TF-IDF** : Matrix representing tf-idf scores of character level n-grams in the corpus"
   ]
  },
  {
   "cell_type": "code",
   "execution_count": 27,
   "metadata": {},
   "outputs": [],
   "source": [
    "# word level tf-idf\n",
    "tfidf_vect = TfidfVectorizer(analyzer='word', token_pattern=r'\\w{1,}', max_features=5000)\n",
    "tfidf_vect.fit(data.Notes)\n",
    "Xtrain_tfidf =  tfidf_vect.transform(sentences_train)\n",
    "Xtest_tfidf =  tfidf_vect.transform(sentences_test)\n",
    "\n",
    "# ngram level tf-idf \n",
    "tfidf_vect_ngram = TfidfVectorizer(analyzer='word', token_pattern=r'\\w{1,}', ngram_range=(2,3), max_features=5000)\n",
    "tfidf_vect_ngram.fit(data.Notes)\n",
    "Xtrain_tfidf_ngram =  tfidf_vect_ngram.transform(sentences_train)\n",
    "Xtest_tfidf_ngram =  tfidf_vect_ngram.transform(sentences_test)\n",
    "\n",
    "# characters level tf-idf\n",
    "tfidf_vect_ngram_chars = TfidfVectorizer(analyzer='char', token_pattern=r'\\w{1,}', ngram_range=(2,3), max_features=5000)\n",
    "tfidf_vect_ngram_chars.fit(data.Notes)\n",
    "Xtrain_tfidf_ngram_chars =  tfidf_vect_ngram_chars.transform(sentences_train) \n",
    "Xtest_tfidf_ngram_chars =  tfidf_vect_ngram_chars.transform(sentences_test) "
   ]
  },
  {
   "cell_type": "markdown",
   "metadata": {},
   "source": [
    "#### 3. Model Building\n",
    "\n",
    "We will implement following different classifiers for this purpose:\n",
    "\n",
    "3.1 Naive Bayes Classifier\n",
    "\n",
    "3.2 Linear Classifier\n",
    "\n",
    "3.3 Support Vector Machine\n",
    "\n",
    "3.4 Bagging Models\n",
    "\n",
    "3.5 Boosting Models\n",
    "\n",
    "3.6 Shallow Neural Networks (MLP)"
   ]
  },
  {
   "cell_type": "code",
   "execution_count": 25,
   "metadata": {},
   "outputs": [],
   "source": [
    "def train_model(classifier, feature_vector_train, label, feature_vector_valid, is_neural_net=False):\n",
    "    # fit the training dataset on the classifier\n",
    "    classifier.fit(feature_vector_train, label)\n",
    "    \n",
    "    # predict the labels on validation dataset\n",
    "    predictions = classifier.predict(feature_vector_valid)\n",
    "    \n",
    "    if is_neural_net:\n",
    "        predictions = predictions.argmax(axis=-1)\n",
    "    \n",
    "    return metrics.accuracy_score(predictions, y_test)"
   ]
  },
  {
   "cell_type": "markdown",
   "metadata": {},
   "source": [
    "##### 3.1 Naive Bayes"
   ]
  },
  {
   "cell_type": "code",
   "execution_count": 28,
   "metadata": {},
   "outputs": [
    {
     "name": "stdout",
     "output_type": "stream",
     "text": [
      "Naive Bayes, Count Vectors:  0.872539831302718\n",
      "Naive Bayes, WordLevel TF-IDF:  0.8833177132146204\n",
      "Naive Bayes, N-Gram Vectors:  0.8819119025304593\n",
      "Naive Bayes, CharLevel Vectors:  0.880037488284911\n"
     ]
    }
   ],
   "source": [
    "# Naive Bayes on Count Vectors\n",
    "accuracy = train_model(naive_bayes.MultinomialNB(), Xtrain_count, y_train, Xtest_count)\n",
    "print (\"Naive Bayes, Count Vectors: \", accuracy)\n",
    "\n",
    "# Naive Bayes on Word Level TF IDF Vectors\n",
    "accuracy = train_model(naive_bayes.MultinomialNB(), Xtrain_tfidf, y_train, Xtest_tfidf)\n",
    "print (\"Naive Bayes, WordLevel TF-IDF: \", accuracy)\n",
    "\n",
    "# Naive Bayes on Ngram Level TF IDF Vectors\n",
    "accuracy = train_model(naive_bayes.MultinomialNB(), Xtrain_tfidf_ngram, y_train, Xtest_tfidf_ngram)\n",
    "print (\"Naive Bayes, N-Gram Vectors: \", accuracy)\n",
    "\n",
    "# Naive Bayes on Character Level TF IDF Vectors\n",
    "accuracy = train_model(naive_bayes.MultinomialNB(), Xtrain_tfidf_ngram_chars, y_train, Xtest_tfidf_ngram_chars)\n",
    "print (\"Naive Bayes, CharLevel Vectors: \", accuracy)"
   ]
  },
  {
   "cell_type": "markdown",
   "metadata": {},
   "source": [
    "#### 3.2 Linear Classifier"
   ]
  },
  {
   "cell_type": "code",
   "execution_count": 33,
   "metadata": {},
   "outputs": [
    {
     "name": "stderr",
     "output_type": "stream",
     "text": [
      "C:\\Users\\AP84590\\AppData\\Local\\Continuum\\anaconda3\\lib\\site-packages\\sklearn\\linear_model\\logistic.py:947: ConvergenceWarning: lbfgs failed to converge. Increase the number of iterations.\n",
      "  \"of iterations.\", ConvergenceWarning)\n"
     ]
    },
    {
     "name": "stdout",
     "output_type": "stream",
     "text": [
      "Logistic Regression, Count Vectors:  0.9137769447047798\n",
      "Logistic Regression, WordLevel TF-IDF:  0.89456419868791\n",
      "Logistic Regression, N-Gram Vectors:  0.8776944704779757\n",
      "Logistic Regression, CharLevel Vectors:  0.8912839737582006\n"
     ]
    }
   ],
   "source": [
    "# Linear Classifier on Count Vectors\n",
    "accuracy = train_model(linear_model.LogisticRegression(solver='lbfgs'), Xtrain_count, y_train, Xtest_count)\n",
    "print (\"Logistic Regression, Count Vectors: \", accuracy)\n",
    "\n",
    "# Linear Classifier on Word Level TF IDF Vectors\n",
    "accuracy = train_model(linear_model.LogisticRegression(solver='lbfgs'), Xtrain_tfidf, y_train, Xtest_tfidf)\n",
    "print (\"Logistic Regression, WordLevel TF-IDF: \", accuracy)\n",
    "\n",
    "# Linear Classifier on Ngram Level TF IDF Vectors\n",
    "accuracy = train_model(linear_model.LogisticRegression(solver='lbfgs'), Xtrain_tfidf_ngram, y_train, Xtest_tfidf_ngram)\n",
    "print (\"Logistic Regression, N-Gram Vectors: \", accuracy)\n",
    "\n",
    "# Linear Classifier on Character Level TF IDF Vectors\n",
    "accuracy = train_model(linear_model.LogisticRegression(solver='lbfgs'), Xtrain_tfidf_ngram_chars, y_train, Xtest_tfidf_ngram_chars)\n",
    "print (\"Logistic Regression, CharLevel Vectors: \", accuracy)"
   ]
  },
  {
   "cell_type": "markdown",
   "metadata": {},
   "source": [
    "#### 3.3 SVM Model"
   ]
  },
  {
   "cell_type": "code",
   "execution_count": 34,
   "metadata": {},
   "outputs": [
    {
     "name": "stdout",
     "output_type": "stream",
     "text": [
      "SVM, Count Vectors:  0.8992502343017807\n",
      "SVM, WordLevel TF-IDF:  0.915651358950328\n",
      "SVM, N-Gram Vectors:  0.8955014058106842\n",
      "SVM, CharLevel Vectors:  0.9128397375820057\n"
     ]
    }
   ],
   "source": [
    "# SVM on Count Vectors\n",
    "accuracy = train_model(svm.SVC(gamma='scale'), Xtrain_count, y_train, Xtest_count)\n",
    "print (\"SVM, Count Vectors: \", accuracy)\n",
    "\n",
    "# SVM on Word Level TF IDF Vectors\n",
    "accuracy = train_model(svm.SVC(gamma='scale'), Xtrain_tfidf, y_train, Xtest_tfidf)\n",
    "print (\"SVM, WordLevel TF-IDF: \", accuracy)\n",
    "\n",
    "# SVM on Ngram Level TF IDF Vectors\n",
    "accuracy = train_model(svm.SVC(gamma='scale'), Xtrain_tfidf_ngram, y_train, Xtest_tfidf_ngram)\n",
    "print (\"SVM, N-Gram Vectors: \", accuracy)\n",
    "\n",
    "# SVM on Character Level TF IDF Vectors\n",
    "accuracy = train_model(svm.SVC(gamma='scale'), Xtrain_tfidf_ngram_chars, y_train, Xtest_tfidf_ngram_chars)\n",
    "print (\"SVM, CharLevel Vectors: \", accuracy)"
   ]
  },
  {
   "cell_type": "markdown",
   "metadata": {},
   "source": [
    "#### 3.4 Bagging Model (Random Forest Model)"
   ]
  },
  {
   "cell_type": "code",
   "execution_count": 37,
   "metadata": {},
   "outputs": [
    {
     "name": "stdout",
     "output_type": "stream",
     "text": [
      "Random Forest, Count Vectors:  0.9133083411433927\n",
      "Random Forest, WordLevel TF-IDF:  0.9147141518275539\n",
      "Random Forest, N-Gram Vectors:  0.9072164948453608\n",
      "Random Forest, CharLevel Vectors:  0.9165885660731021\n"
     ]
    }
   ],
   "source": [
    "# RF on Count Vectors\n",
    "accuracy = train_model(ensemble.RandomForestClassifier(n_estimators=100), Xtrain_count, y_train, Xtest_count)\n",
    "print (\"Random Forest, Count Vectors: \", accuracy)\n",
    "\n",
    "# RF on Word Level TF IDF Vectors\n",
    "accuracy = train_model(ensemble.RandomForestClassifier(n_estimators=100), Xtrain_tfidf, y_train, Xtest_tfidf)\n",
    "print (\"Random Forest, WordLevel TF-IDF: \", accuracy)\n",
    "\n",
    "# RF on Ngram Level TF IDF Vectors\n",
    "accuracy = train_model(ensemble.RandomForestClassifier(n_estimators=100), Xtrain_tfidf_ngram, y_train, Xtest_tfidf_ngram)\n",
    "print (\"Random Forest, N-Gram Vectors: \", accuracy)\n",
    "\n",
    "# RF on Character Level TF IDF Vectors\n",
    "accuracy = train_model(ensemble.RandomForestClassifier(n_estimators=100), Xtrain_tfidf_ngram_chars, y_train, Xtest_tfidf_ngram_chars)\n",
    "print (\"Random Forest, CharLevel Vectors: \", accuracy)"
   ]
  },
  {
   "cell_type": "markdown",
   "metadata": {},
   "source": [
    "#### 3.5 Boosting Model (Xtereme Gradient Boosting Model)"
   ]
  },
  {
   "cell_type": "code",
   "execution_count": 39,
   "metadata": {},
   "outputs": [
    {
     "name": "stdout",
     "output_type": "stream",
     "text": [
      "Xgb, Count Vectors:  0.9048734770384255\n",
      "Xgb, WordLevel TF-IDF:  0.9081537019681349\n",
      "Xgb, N-Gram Vectors:  0.8823805060918463\n",
      "Xgb, CharLevel Vectors:  0.9175257731958762\n"
     ]
    }
   ],
   "source": [
    "# Extereme Gradient Boosting on Count Vectors\n",
    "accuracy = train_model(xgboost.XGBClassifier(), Xtrain_count.tocsc(), y_train, Xtest_count.tocsc())\n",
    "print (\"Xgb, Count Vectors: \", accuracy)\n",
    "\n",
    "# Extereme Gradient Boosting on Word Level TF IDF Vectors\n",
    "accuracy = train_model(xgboost.XGBClassifier(), Xtrain_tfidf.tocsc(), y_train, Xtest_tfidf.tocsc())\n",
    "print (\"Xgb, WordLevel TF-IDF: \", accuracy)\n",
    "\n",
    "# RF on Ngram Level TF IDF Vectors\n",
    "accuracy = train_model(xgboost.XGBClassifier(), Xtrain_tfidf_ngram,  y_train, Xtest_tfidf_ngram)\n",
    "print (\"Xgb, N-Gram Vectors: \", accuracy)\n",
    "\n",
    "# Extereme Gradient Boosting on Character Level TF IDF Vectors\n",
    "accuracy = train_model(xgboost.XGBClassifier(), Xtrain_tfidf_ngram_chars.tocsc(),  y_train, Xtest_tfidf_ngram_chars.tocsc())\n",
    "print (\"Xgb, CharLevel Vectors: \", accuracy)"
   ]
  },
  {
   "cell_type": "markdown",
   "metadata": {},
   "source": [
    "#### 3.6 Shallow Neural Networks"
   ]
  },
  {
   "cell_type": "code",
   "execution_count": 49,
   "metadata": {},
   "outputs": [
    {
     "name": "stdout",
     "output_type": "stream",
     "text": [
      "Model: \"sequential_3\"\n",
      "_________________________________________________________________\n",
      "Layer (type)                 Output Shape              Param #   \n",
      "=================================================================\n",
      "dense_9 (Dense)              (None, 100)               500100    \n",
      "_________________________________________________________________\n",
      "dense_10 (Dense)             (None, 1)                 101       \n",
      "=================================================================\n",
      "Total params: 500,201\n",
      "Trainable params: 500,201\n",
      "Non-trainable params: 0\n",
      "_________________________________________________________________\n"
     ]
    }
   ],
   "source": [
    "#Neural Network learning\n",
    "input_dim = Xtrain_tfidf.shape[1]  # Number of features\n",
    "\n",
    "model_nn = Sequential()\n",
    "model_nn.add(layers.Dense(100, input_dim=input_dim, activation='relu'))\n",
    "model_nn.add(layers.Dense(1, activation='sigmoid'))\n",
    "model_nn.compile(loss='binary_crossentropy', \n",
    "              optimizer='adam', \n",
    "              metrics=['accuracy'])\n",
    "model_nn.summary()"
   ]
  },
  {
   "cell_type": "code",
   "execution_count": 50,
   "metadata": {},
   "outputs": [
    {
     "name": "stdout",
     "output_type": "stream",
     "text": [
      "Train on 3201 samples, validate on 2134 samples\n",
      "Epoch 1/100\n",
      "3201/3201 [==============================] - 3s 893us/step - loss: 0.3385 - accuracy: 0.8666 - val_loss: 0.2497 - val_accuracy: 0.9035\n",
      "Epoch 2/100\n",
      "3201/3201 [==============================] - 3s 849us/step - loss: 0.1801 - accuracy: 0.9297 - val_loss: 0.2198 - val_accuracy: 0.9128\n",
      "Epoch 3/100\n",
      "3201/3201 [==============================] - 3s 877us/step - loss: 0.1073 - accuracy: 0.9594 - val_loss: 0.2286 - val_accuracy: 0.9152\n",
      "Epoch 4/100\n",
      "3201/3201 [==============================] - 3s 878us/step - loss: 0.0656 - accuracy: 0.9803 - val_loss: 0.2600 - val_accuracy: 0.9138\n",
      "Epoch 5/100\n",
      "3201/3201 [==============================] - 3s 851us/step - loss: 0.0459 - accuracy: 0.9844 - val_loss: 0.2846 - val_accuracy: 0.9086\n",
      "Epoch 6/100\n",
      "3201/3201 [==============================] - 3s 848us/step - loss: 0.0344 - accuracy: 0.9872 - val_loss: 0.3082 - val_accuracy: 0.9114\n",
      "Epoch 7/100\n",
      "3201/3201 [==============================] - 3s 838us/step - loss: 0.0321 - accuracy: 0.9881 - val_loss: 0.3229 - val_accuracy: 0.9096\n",
      "Epoch 8/100\n",
      "3201/3201 [==============================] - 3s 848us/step - loss: 0.0287 - accuracy: 0.9875 - val_loss: 0.3354 - val_accuracy: 0.9082\n",
      "Epoch 9/100\n",
      "3201/3201 [==============================] - 3s 853us/step - loss: 0.0267 - accuracy: 0.9891 - val_loss: 0.3543 - val_accuracy: 0.9105\n",
      "Epoch 10/100\n",
      "3201/3201 [==============================] - 3s 856us/step - loss: 0.0291 - accuracy: 0.9894 - val_loss: 0.3618 - val_accuracy: 0.9086\n",
      "Epoch 11/100\n",
      "3201/3201 [==============================] - 3s 849us/step - loss: 0.0252 - accuracy: 0.9888 - val_loss: 0.3698 - val_accuracy: 0.9096\n",
      "Epoch 12/100\n",
      "3201/3201 [==============================] - 3s 860us/step - loss: 0.0235 - accuracy: 0.9909 - val_loss: 0.3781 - val_accuracy: 0.9053\n",
      "Epoch 13/100\n",
      "3201/3201 [==============================] - 3s 860us/step - loss: 0.0243 - accuracy: 0.9891 - val_loss: 0.3930 - val_accuracy: 0.9082\n",
      "Epoch 14/100\n",
      "3201/3201 [==============================] - 3s 854us/step - loss: 0.0243 - accuracy: 0.9888 - val_loss: 0.3908 - val_accuracy: 0.9082\n",
      "Epoch 15/100\n",
      "3201/3201 [==============================] - 3s 851us/step - loss: 0.0233 - accuracy: 0.9894 - val_loss: 0.4019 - val_accuracy: 0.9072\n",
      "Epoch 16/100\n",
      "3201/3201 [==============================] - 3s 885us/step - loss: 0.0225 - accuracy: 0.9878 - val_loss: 0.4183 - val_accuracy: 0.9082\n",
      "Epoch 17/100\n",
      "3201/3201 [==============================] - 3s 906us/step - loss: 0.0227 - accuracy: 0.9894 - val_loss: 0.4056 - val_accuracy: 0.9067\n",
      "Epoch 18/100\n",
      "3201/3201 [==============================] - 3s 826us/step - loss: 0.0202 - accuracy: 0.9909 - val_loss: 0.4112 - val_accuracy: 0.9049\n",
      "Epoch 19/100\n",
      "3201/3201 [==============================] - 3s 829us/step - loss: 0.0206 - accuracy: 0.9894 - val_loss: 0.4371 - val_accuracy: 0.9067\n",
      "Epoch 20/100\n",
      "3201/3201 [==============================] - 3s 873us/step - loss: 0.0231 - accuracy: 0.9884 - val_loss: 0.4270 - val_accuracy: 0.9072\n",
      "Epoch 21/100\n",
      "3201/3201 [==============================] - 3s 927us/step - loss: 0.0201 - accuracy: 0.9897 - val_loss: 0.4338 - val_accuracy: 0.9053\n",
      "Epoch 22/100\n",
      "3201/3201 [==============================] - 3s 934us/step - loss: 0.0196 - accuracy: 0.9894 - val_loss: 0.4317 - val_accuracy: 0.9053\n",
      "Epoch 23/100\n",
      "3201/3201 [==============================] - 3s 913us/step - loss: 0.0192 - accuracy: 0.9891 - val_loss: 0.4452 - val_accuracy: 0.9053\n",
      "Epoch 24/100\n",
      "3201/3201 [==============================] - 3s 875us/step - loss: 0.0206 - accuracy: 0.9881 - val_loss: 0.4402 - val_accuracy: 0.9067\n",
      "Epoch 25/100\n",
      "3201/3201 [==============================] - 3s 876us/step - loss: 0.0190 - accuracy: 0.9897 - val_loss: 0.4381 - val_accuracy: 0.9058\n",
      "Epoch 26/100\n",
      "3201/3201 [==============================] - 3s 863us/step - loss: 0.0180 - accuracy: 0.9906 - val_loss: 0.4594 - val_accuracy: 0.9063\n",
      "Epoch 27/100\n",
      "3201/3201 [==============================] - 3s 867us/step - loss: 0.0191 - accuracy: 0.9894 - val_loss: 0.4505 - val_accuracy: 0.9072\n",
      "Epoch 28/100\n",
      "3201/3201 [==============================] - 3s 875us/step - loss: 0.0184 - accuracy: 0.9888 - val_loss: 0.4568 - val_accuracy: 0.9072\n",
      "Epoch 29/100\n",
      "3201/3201 [==============================] - 3s 909us/step - loss: 0.0174 - accuracy: 0.9903 - val_loss: 0.4625 - val_accuracy: 0.9053\n",
      "Epoch 30/100\n",
      "3201/3201 [==============================] - 3s 920us/step - loss: 0.0177 - accuracy: 0.9891 - val_loss: 0.4601 - val_accuracy: 0.9067\n",
      "Epoch 31/100\n",
      "3201/3201 [==============================] - 3s 860us/step - loss: 0.0165 - accuracy: 0.9897 - val_loss: 0.4715 - val_accuracy: 0.9063\n",
      "Epoch 32/100\n",
      "3201/3201 [==============================] - 3s 877us/step - loss: 0.0176 - accuracy: 0.9897 - val_loss: 0.4693 - val_accuracy: 0.9053\n",
      "Epoch 33/100\n",
      "3201/3201 [==============================] - 3s 888us/step - loss: 0.0166 - accuracy: 0.9894 - val_loss: 0.4808 - val_accuracy: 0.9063\n",
      "Epoch 34/100\n",
      "3201/3201 [==============================] - 3s 865us/step - loss: 0.0165 - accuracy: 0.9894 - val_loss: 0.4774 - val_accuracy: 0.9067\n",
      "Epoch 35/100\n",
      "3201/3201 [==============================] - 3s 860us/step - loss: 0.0163 - accuracy: 0.9894 - val_loss: 0.4866 - val_accuracy: 0.9049\n",
      "Epoch 36/100\n",
      "3201/3201 [==============================] - 3s 860us/step - loss: 0.0166 - accuracy: 0.9891 - val_loss: 0.4794 - val_accuracy: 0.9049\n",
      "Epoch 37/100\n",
      "3201/3201 [==============================] - 3s 859us/step - loss: 0.0163 - accuracy: 0.9891 - val_loss: 0.4906 - val_accuracy: 0.9063\n",
      "Epoch 38/100\n",
      "3201/3201 [==============================] - 3s 877us/step - loss: 0.0150 - accuracy: 0.9913 - val_loss: 0.4882 - val_accuracy: 0.9044\n",
      "Epoch 39/100\n",
      "3201/3201 [==============================] - 3s 872us/step - loss: 0.0161 - accuracy: 0.9897 - val_loss: 0.4953 - val_accuracy: 0.9082\n",
      "Epoch 40/100\n",
      "3201/3201 [==============================] - 3s 863us/step - loss: 0.0151 - accuracy: 0.9906 - val_loss: 0.4943 - val_accuracy: 0.9025\n",
      "Epoch 41/100\n",
      "3201/3201 [==============================] - 3s 861us/step - loss: 0.0151 - accuracy: 0.9891 - val_loss: 0.5033 - val_accuracy: 0.9053\n",
      "Epoch 42/100\n",
      "3201/3201 [==============================] - 3s 859us/step - loss: 0.0148 - accuracy: 0.9897 - val_loss: 0.5077 - val_accuracy: 0.9053\n",
      "Epoch 43/100\n",
      "3201/3201 [==============================] - 3s 860us/step - loss: 0.0146 - accuracy: 0.9903 - val_loss: 0.5144 - val_accuracy: 0.9049\n",
      "Epoch 44/100\n",
      "3201/3201 [==============================] - 3s 862us/step - loss: 0.0147 - accuracy: 0.9906 - val_loss: 0.5108 - val_accuracy: 0.9053\n",
      "Epoch 45/100\n",
      "3201/3201 [==============================] - 3s 859us/step - loss: 0.0140 - accuracy: 0.9897 - val_loss: 0.5192 - val_accuracy: 0.9049\n",
      "Epoch 46/100\n",
      "3201/3201 [==============================] - 3s 864us/step - loss: 0.0143 - accuracy: 0.9878 - val_loss: 0.5184 - val_accuracy: 0.9044\n",
      "Epoch 47/100\n",
      "3201/3201 [==============================] - 3s 861us/step - loss: 0.0142 - accuracy: 0.9897 - val_loss: 0.5248 - val_accuracy: 0.9030\n",
      "Epoch 48/100\n",
      "3201/3201 [==============================] - 3s 892us/step - loss: 0.0138 - accuracy: 0.9888 - val_loss: 0.5294 - val_accuracy: 0.9039\n",
      "Epoch 49/100\n",
      "3201/3201 [==============================] - 3s 860us/step - loss: 0.0137 - accuracy: 0.9897 - val_loss: 0.5350 - val_accuracy: 0.9044\n",
      "Epoch 50/100\n",
      "3201/3201 [==============================] - 3s 872us/step - loss: 0.0144 - accuracy: 0.9900 - val_loss: 0.5286 - val_accuracy: 0.9039\n",
      "Epoch 51/100\n",
      "3201/3201 [==============================] - 3s 860us/step - loss: 0.0139 - accuracy: 0.9891 - val_loss: 0.5298 - val_accuracy: 0.9039\n",
      "Epoch 52/100\n",
      "3201/3201 [==============================] - 3s 863us/step - loss: 0.0136 - accuracy: 0.9888 - val_loss: 0.5293 - val_accuracy: 0.9035\n",
      "Epoch 53/100\n",
      "3201/3201 [==============================] - 3s 867us/step - loss: 0.0136 - accuracy: 0.9903 - val_loss: 0.5374 - val_accuracy: 0.9030\n",
      "Epoch 54/100\n",
      "3201/3201 [==============================] - 3s 860us/step - loss: 0.0135 - accuracy: 0.9891 - val_loss: 0.5382 - val_accuracy: 0.9030\n",
      "Epoch 55/100\n",
      "3201/3201 [==============================] - 3s 866us/step - loss: 0.0133 - accuracy: 0.9888 - val_loss: 0.5479 - val_accuracy: 0.9035\n",
      "Epoch 56/100\n",
      "3201/3201 [==============================] - 3s 858us/step - loss: 0.0135 - accuracy: 0.9903 - val_loss: 0.5412 - val_accuracy: 0.9030\n",
      "Epoch 57/100\n",
      "3201/3201 [==============================] - 3s 872us/step - loss: 0.0128 - accuracy: 0.9903 - val_loss: 0.5523 - val_accuracy: 0.9025\n",
      "Epoch 58/100\n",
      "3201/3201 [==============================] - 3s 854us/step - loss: 0.0128 - accuracy: 0.9897 - val_loss: 0.5494 - val_accuracy: 0.9035\n",
      "Epoch 59/100\n",
      "3201/3201 [==============================] - 3s 863us/step - loss: 0.0133 - accuracy: 0.9900 - val_loss: 0.5537 - val_accuracy: 0.9035\n",
      "Epoch 60/100\n",
      "3201/3201 [==============================] - 3s 896us/step - loss: 0.0126 - accuracy: 0.9906 - val_loss: 0.5580 - val_accuracy: 0.9021\n",
      "Epoch 61/100\n",
      "3201/3201 [==============================] - 3s 899us/step - loss: 0.0124 - accuracy: 0.9897 - val_loss: 0.5759 - val_accuracy: 0.9030\n",
      "Epoch 62/100\n",
      "3201/3201 [==============================] - 3s 899us/step - loss: 0.0124 - accuracy: 0.9897 - val_loss: 0.5772 - val_accuracy: 0.9021\n",
      "Epoch 63/100\n",
      "3201/3201 [==============================] - 3s 862us/step - loss: 0.0121 - accuracy: 0.9881 - val_loss: 0.6027 - val_accuracy: 0.9035\n",
      "Epoch 64/100\n",
      "3201/3201 [==============================] - 3s 864us/step - loss: 0.0122 - accuracy: 0.9894 - val_loss: 0.5931 - val_accuracy: 0.9025\n",
      "Epoch 65/100\n",
      "3201/3201 [==============================] - 3s 907us/step - loss: 0.0120 - accuracy: 0.9903 - val_loss: 0.5994 - val_accuracy: 0.9035\n",
      "Epoch 66/100\n",
      "3201/3201 [==============================] - 3s 899us/step - loss: 0.0117 - accuracy: 0.9903 - val_loss: 0.6055 - val_accuracy: 0.9021\n",
      "Epoch 67/100\n",
      "3201/3201 [==============================] - 3s 859us/step - loss: 0.0118 - accuracy: 0.9888 - val_loss: 0.6164 - val_accuracy: 0.9030\n",
      "Epoch 68/100\n",
      "3201/3201 [==============================] - 3s 869us/step - loss: 0.0116 - accuracy: 0.9913 - val_loss: 0.6226 - val_accuracy: 0.9039\n",
      "Epoch 69/100\n",
      "3201/3201 [==============================] - 3s 894us/step - loss: 0.0112 - accuracy: 0.9909 - val_loss: 0.6488 - val_accuracy: 0.9035\n",
      "Epoch 70/100\n",
      "3201/3201 [==============================] - 3s 882us/step - loss: 0.0116 - accuracy: 0.9903 - val_loss: 0.6460 - val_accuracy: 0.9030\n",
      "Epoch 71/100\n",
      "3201/3201 [==============================] - 3s 896us/step - loss: 0.0114 - accuracy: 0.9891 - val_loss: 0.6370 - val_accuracy: 0.9021\n",
      "Epoch 72/100\n",
      "3201/3201 [==============================] - 3s 866us/step - loss: 0.0113 - accuracy: 0.9900 - val_loss: 0.6442 - val_accuracy: 0.9030\n",
      "Epoch 73/100\n",
      "3201/3201 [==============================] - 3s 857us/step - loss: 0.0116 - accuracy: 0.9900 - val_loss: 0.6333 - val_accuracy: 0.9025\n",
      "Epoch 74/100\n",
      "3201/3201 [==============================] - 3s 863us/step - loss: 0.0114 - accuracy: 0.9891 - val_loss: 0.6385 - val_accuracy: 0.9025\n",
      "Epoch 75/100\n",
      "3201/3201 [==============================] - 3s 875us/step - loss: 0.0112 - accuracy: 0.9888 - val_loss: 0.6527 - val_accuracy: 0.9021\n",
      "Epoch 76/100\n",
      "3201/3201 [==============================] - 3s 879us/step - loss: 0.0114 - accuracy: 0.9884 - val_loss: 0.6607 - val_accuracy: 0.9016\n",
      "Epoch 77/100\n",
      "3201/3201 [==============================] - 3s 879us/step - loss: 0.0110 - accuracy: 0.9897 - val_loss: 0.6752 - val_accuracy: 0.9030\n",
      "Epoch 78/100\n",
      "3201/3201 [==============================] - 3s 918us/step - loss: 0.0113 - accuracy: 0.9903 - val_loss: 0.6805 - val_accuracy: 0.9016\n",
      "Epoch 79/100\n",
      "3201/3201 [==============================] - 3s 899us/step - loss: 0.0110 - accuracy: 0.9894 - val_loss: 0.6825 - val_accuracy: 0.9021\n",
      "Epoch 80/100\n",
      "3201/3201 [==============================] - 3s 896us/step - loss: 0.0109 - accuracy: 0.9897 - val_loss: 0.6905 - val_accuracy: 0.9016\n",
      "Epoch 81/100\n",
      "3201/3201 [==============================] - 3s 865us/step - loss: 0.0109 - accuracy: 0.9909 - val_loss: 0.6865 - val_accuracy: 0.9044\n",
      "Epoch 82/100\n",
      "3201/3201 [==============================] - 3s 896us/step - loss: 0.0107 - accuracy: 0.9903 - val_loss: 0.6998 - val_accuracy: 0.9021\n",
      "Epoch 83/100\n",
      "3201/3201 [==============================] - 3s 872us/step - loss: 0.0108 - accuracy: 0.9897 - val_loss: 0.7012 - val_accuracy: 0.9011\n",
      "Epoch 84/100\n",
      "3201/3201 [==============================] - 3s 880us/step - loss: 0.0106 - accuracy: 0.9913 - val_loss: 0.7175 - val_accuracy: 0.9016\n",
      "Epoch 85/100\n",
      "3201/3201 [==============================] - 3s 871us/step - loss: 0.0108 - accuracy: 0.9919 - val_loss: 0.7139 - val_accuracy: 0.9025\n",
      "Epoch 86/100\n",
      "3201/3201 [==============================] - 3s 874us/step - loss: 0.0105 - accuracy: 0.9897 - val_loss: 0.7300 - val_accuracy: 0.9025\n",
      "Epoch 87/100\n",
      "3201/3201 [==============================] - 3s 862us/step - loss: 0.0105 - accuracy: 0.9906 - val_loss: 0.7295 - val_accuracy: 0.9021\n",
      "Epoch 88/100\n",
      "3201/3201 [==============================] - 3s 867us/step - loss: 0.0104 - accuracy: 0.9903 - val_loss: 0.7434 - val_accuracy: 0.9016\n",
      "Epoch 89/100\n",
      "3201/3201 [==============================] - 3s 855us/step - loss: 0.0103 - accuracy: 0.9894 - val_loss: 0.7509 - val_accuracy: 0.9016\n",
      "Epoch 90/100\n",
      "3201/3201 [==============================] - 3s 860us/step - loss: 0.0102 - accuracy: 0.9897 - val_loss: 0.7569 - val_accuracy: 0.9016\n",
      "Epoch 91/100\n",
      "3201/3201 [==============================] - 3s 891us/step - loss: 0.0102 - accuracy: 0.9881 - val_loss: 0.7809 - val_accuracy: 0.9011\n",
      "Epoch 92/100\n",
      "3201/3201 [==============================] - 3s 870us/step - loss: 0.0104 - accuracy: 0.9900 - val_loss: 0.7751 - val_accuracy: 0.9030\n",
      "Epoch 93/100\n",
      "3201/3201 [==============================] - 3s 865us/step - loss: 0.0102 - accuracy: 0.9894 - val_loss: 0.7806 - val_accuracy: 0.9016\n",
      "Epoch 94/100\n",
      "3201/3201 [==============================] - 3s 861us/step - loss: 0.0102 - accuracy: 0.9897 - val_loss: 0.7924 - val_accuracy: 0.9011\n",
      "Epoch 95/100\n",
      "3201/3201 [==============================] - 3s 865us/step - loss: 0.0101 - accuracy: 0.9919 - val_loss: 0.8043 - val_accuracy: 0.9021\n",
      "Epoch 96/100\n",
      "3201/3201 [==============================] - 3s 873us/step - loss: 0.0100 - accuracy: 0.9894 - val_loss: 0.8187 - val_accuracy: 0.9025\n",
      "Epoch 97/100\n",
      "3201/3201 [==============================] - 3s 880us/step - loss: 0.0103 - accuracy: 0.9888 - val_loss: 0.8253 - val_accuracy: 0.9025\n",
      "Epoch 98/100\n",
      "3201/3201 [==============================] - 3s 855us/step - loss: 0.0101 - accuracy: 0.9903 - val_loss: 0.8340 - val_accuracy: 0.9025\n",
      "Epoch 99/100\n",
      "3201/3201 [==============================] - 3s 879us/step - loss: 0.0102 - accuracy: 0.9906 - val_loss: 0.8291 - val_accuracy: 0.9025\n",
      "Epoch 100/100\n",
      "3201/3201 [==============================] - 3s 899us/step - loss: 0.0100 - accuracy: 0.9897 - val_loss: 0.8319 - val_accuracy: 0.9030\n",
      "3201/3201 [==============================] - 0s 47us/step\n",
      "Training Accuracy: 0.9938\n",
      "2134/2134 [==============================] - 0s 47us/step\n",
      "Testing Accuracy:  0.9030\n"
     ]
    },
    {
     "data": {
      "image/png": "[encoded data removed]",
      "text/plain": [
       "<Figure size 864x360 with 2 Axes>"
      ]
     },
     "metadata": {
      "needs_background": "light"
     },
     "output_type": "display_data"
    }
   ],
   "source": [
    "history_nn = model_nn.fit(Xtrain_tfidf, y_train,\n",
    "                    epochs=100,\n",
    "                    verbose=True,\n",
    "                    validation_data=(Xtest_tfidf, y_test),\n",
    "                    batch_size=10)\n",
    "\n",
    "loss, accuracy = model_nn.evaluate(Xtrain_tfidf, y_train, verbose=True)\n",
    "print(\"Training Accuracy: {:.4f}\".format(accuracy))\n",
    "loss, accuracy = model_nn.evaluate(Xtest_tfidf, y_test, verbose=True)\n",
    "print(\"Testing Accuracy:  {:.4f}\".format(accuracy))\n",
    "\n",
    "def plot_history(history):\n",
    "    acc = history.history['accuracy']\n",
    "    val_acc = history.history['val_accuracy']\n",
    "    loss = history.history['loss']\n",
    "    val_loss = history.history['val_loss']\n",
    "    x = range(1, len(acc) + 1)\n",
    "\n",
    "    plt.figure(figsize=(12, 5))\n",
    "    plt.subplot(1, 2, 1)\n",
    "    plt.plot(x, acc, 'b', label='Training acc')\n",
    "    plt.plot(x, val_acc, 'r', label='Validation acc')\n",
    "    plt.title('Training and validation accuracy of neural network')\n",
    "    plt.legend()\n",
    "    plt.subplot(1, 2, 2)\n",
    "    plt.plot(x, loss, 'b', label='Training loss')\n",
    "    plt.plot(x, val_loss, 'r', label='Validation loss')\n",
    "    plt.title('Training and validation loss of neural network')\n",
    "    plt.legend()\n",
    "    plt.show()\n",
    "\n",
    "plot_history(history_nn)"
   ]
  },
  {
   "cell_type": "code",
   "execution_count": null,
   "metadata": {},
   "outputs": [],
   "source": []
  }
 ],
 "metadata": {
  "kernelspec": {
   "display_name": "Python 3",
   "language": "python",
   "name": "python3"
  },
  "language_info": {
   "codemirror_mode": {
    "name": "ipython",
    "version": 3
   },
   "file_extension": ".py",
   "mimetype": "text/x-python",
   "name": "python",
   "nbconvert_exporter": "python",
   "pygments_lexer": "ipython3",
   "version": "3.7.4"
  }
 },
 "nbformat": 4,
 "nbformat_minor": 2
}
