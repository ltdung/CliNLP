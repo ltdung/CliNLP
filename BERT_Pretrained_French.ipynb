{
 "cells": [
  {
   "cell_type": "code",
   "execution_count": 2,
   "metadata": {},
   "outputs": [
    {
     "name": "stderr",
     "output_type": "stream",
     "text": [
      "Cloning into 'bert-sklearn'...\n"
     ]
    }
   ],
   "source": [
    "!git clone -b master https://github.com/charles9n/bert-sklearn"
   ]
  },
  {
   "cell_type": "code",
   "execution_count": 3,
   "metadata": {},
   "outputs": [
    {
     "name": "stdout",
     "output_type": "stream",
     "text": [
      "Better speed can be achieved with apex installed from https://www.github.com/nvidia/apex.\n"
     ]
    }
   ],
   "source": [
    "import numpy as np\n",
    "import pandas as pd\n",
    "import os\n",
    "import sys\n",
    "import csv\n",
    "from sklearn import metrics\n",
    "from sklearn.metrics import classification_report\n",
    "\n",
    "sys.path.append(\"../\") \n",
    "from bert_sklearn import BertClassifier\n",
    "from bert_sklearn import load_model"
   ]
  },
  {
   "cell_type": "code",
   "execution_count": 4,
   "metadata": {},
   "outputs": [
    {
     "name": "stderr",
     "output_type": "stream",
     "text": [
      "Using TensorFlow backend.\n",
      "09/27/2019 11:43:39 - ERROR - tornado.application -   Exception in callback functools.partial(<function Kernel.enter_eventloop.<locals>.advance_eventloop at 0x000001C9E6DA4B88>)\n",
      "Traceback (most recent call last):\n",
      "  File \"C:\\Users\\AP84590\\AppData\\Local\\Continuum\\anaconda3\\lib\\site-packages\\tornado\\ioloop.py\", line 743, in _run_callback\n",
      "    ret = callback()\n",
      "  File \"C:\\Users\\AP84590\\AppData\\Local\\Continuum\\anaconda3\\lib\\site-packages\\ipykernel\\kernelbase.py\", line 314, in advance_eventloop\n",
      "    eventloop(self)\n",
      "TypeError: 'NoneType' object is not callable\n"
     ]
    }
   ],
   "source": [
    "import random \n",
    "random.seed(0)\n",
    "import os\n",
    "import glob\n",
    "import pickle\n",
    "import xgboost, textblob, string\n",
    "import numpy as np\n",
    "import pandas as pd\n",
    "from pandas import read_excel\n",
    "import itertools \n",
    "import matplotlib\n",
    "matplotlib.use('TkAgg')   \n",
    "import matplotlib.pyplot as plt\n",
    "%matplotlib inline\n",
    "\n",
    "# fix random seed for reproducibility\n",
    "np.random.seed(7)\n",
    "\n",
    "from sklearn.utils import shuffle\n",
    "from sklearn import model_selection, preprocessing, linear_model, naive_bayes, metrics, svm\n",
    "from sklearn.model_selection import train_test_split\n",
    "from sklearn.feature_extraction.text import TfidfVectorizer, CountVectorizer\n",
    "from sklearn import decomposition, ensemble\n",
    "\n",
    "from keras.preprocessing import text, sequence\n",
    "from keras import layers, models, optimizers\n",
    "from keras.models import Sequential"
   ]
  },
  {
   "cell_type": "code",
   "execution_count": 8,
   "metadata": {},
   "outputs": [
    {
     "name": "stdout",
     "output_type": "stream",
     "text": [
      "Disease history notes for negative cases:\n",
      "                                               Notes  Label\n",
      "0  Appel cette nuit pour détresse respiratoire pr...      0\n",
      "1  Statut post-op de trachéostomie et reprise cur...      0\n",
      "2  Pte admise x 11/06 pour dlr thoracique/dyspnée...      0\n",
      "3  pte présente RGO + dlr thoracique/sensation de...      0\n",
      "4  Césarienne d'urgence pour détresse fétale le 1...      0\n",
      "\n",
      "Disease history notes for positive cases:\n",
      "HD Medication:\n",
      "                                               Notes  Label\n",
      "0  PatientName est hospitalisé depuis le 12/05 à ...      1\n",
      "1  PO immédiat de Lefort (chx mandibule) avec att...      1\n",
      "2  Sur le plan anesthesique :  induction sufenta/...      1\n",
      "3  SOP ce jour, Dr Vobecky, dr ruest anesthesie s...      1\n",
      "4  Rupture amoureuse récente, mais désir de mouri...      1\n",
      "\n",
      "HD problem CV:\n",
      "                                               Notes  Label\n",
      "0  depuis jeudi 01/03, se sent plus fatigué et es...      1\n",
      "1  Actuellement hospitalisé en cardiologie. - Se ...      1\n",
      "2  dernière visite vendredi 15/04 en cardiologie ...      1\n",
      "3  Histoire de Sx d'IVRS avec toux et rhinorrhée ...      1\n",
      "4  Vue en vie à 21h20 Retrouvée par parents pendu...      1\n",
      "\n",
      "HD proBNP:\n",
      "                                               Notes  Label\n",
      "0  -Pose de picc line 28/01 -Pose de fil VG epica...      1\n",
      "1  Chirurgie (Dre Vobecky)  Dissection difficile ...      1\n",
      "2  #Présentation en choc septique à St-Georges ( ...      1\n",
      "3  Actuellement hospitalisé en cardiologie. - Se ...      1\n",
      "4  Cas discuté à la réunion Mx/Chx 03 novembre 20...      1\n",
      "\n",
      "Data after shuffling\n",
      "                                                  Notes  Label\n",
      "261   Prise en charge chirurgicale par Dr Poirier \\t...      1\n",
      "3079  x6-7 jours plus irritable, amorphe polydypsie,...      0\n",
      "343   10/06: Correction d'anomalies du retour veineu...      1\n",
      "137   Chir TOF le 18/09/2013 sans complication plast...      1\n",
      "3672  Admission en post op immédiat Extubé en salle ...      0\n",
      "2626  F 5 ans 11 mois, bonne santé générale Va à la ...      0\n",
      "668   céphalée fébrile depuis 24h avec photofobie  à...      0\n",
      "1246  A reçu ce am = allupurinol, levaquin Puis pour...      0\n",
      "1472  PatientName est connu pour un problème de foie...      0\n",
      "3736  Post-op supraglottoplastie dans contexte de la...      0\n"
     ]
    }
   ],
   "source": [
    "#Data loading\n",
    "#Negative cases from disease history notes\n",
    "CHUSJ_neg = read_excel('data/neg/DiseaseHistory.xlsx', encoding = 'utf8', keep_default_na=False, header=None)\n",
    "CHUSJ_neg.columns = ['Notes', 'Label']\n",
    "\n",
    "#Positive cases from disease history notes\n",
    "CHUSJ_pos_med = read_excel('data/pos/HDmedication.xlsx', encoding = 'utf8', keep_default_na=False, header=None)\n",
    "CHUSJ_pos_med.columns = ['Notes', 'Label']\n",
    "CHUSJ_pos_cv = read_excel('data/pos/HDproblemeCV.xlsx', encoding = 'utf8', keep_default_na=False, header=None)\n",
    "CHUSJ_pos_cv.columns = ['Notes', 'Label']\n",
    "CHUSJ_pos_bnp = read_excel('data/pos/HDproBNP.xlsx', encoding = 'utf8', keep_default_na=False, header=None)\n",
    "CHUSJ_pos_bnp.columns = ['Notes', 'Label']\n",
    "\n",
    "print(\"Disease history notes for negative cases:\")\n",
    "print(CHUSJ_neg.head())\n",
    "print (\"\")\n",
    "print(\"Disease history notes for positive cases:\")\n",
    "print (\"HD Medication:\")\n",
    "print(CHUSJ_pos_med.head())\n",
    "print (\"\")\n",
    "print (\"HD problem CV:\")\n",
    "print(CHUSJ_pos_cv.head())\n",
    "print (\"\")\n",
    "print (\"HD proBNP:\")\n",
    "print(CHUSJ_pos_bnp.head())\n",
    "print (\"\")\n",
    "frames = [CHUSJ_neg, CHUSJ_pos_med, CHUSJ_pos_cv, CHUSJ_pos_bnp]\n",
    "data = pd.concat(frames)\n",
    "\n",
    "#Randomly shuffle the data\n",
    "data = shuffle(data)\n",
    "print('Data after shuffling')\n",
    "print(data.head(10))"
   ]
  },
  {
   "cell_type": "code",
   "execution_count": 10,
   "metadata": {},
   "outputs": [],
   "source": [
    "sentences_train, sentences_test, y_train, y_test = train_test_split(data.Notes, data.Label, test_size=0.4, random_state=0)"
   ]
  },
  {
   "cell_type": "code",
   "execution_count": 9,
   "metadata": {},
   "outputs": [
    {
     "data": {
      "text/plain": [
       "('bert-base-uncased',\n",
       " 'bert-large-uncased',\n",
       " 'bert-base-cased',\n",
       " 'bert-large-cased',\n",
       " 'bert-base-multilingual-uncased',\n",
       " 'bert-base-multilingual-cased',\n",
       " 'bert-base-chinese')"
      ]
     },
     "execution_count": 9,
     "metadata": {},
     "output_type": "execute_result"
    }
   ],
   "source": [
    "from bert_sklearn import SUPPORTED_MODELS\n",
    "SUPPORTED_MODELS"
   ]
  },
  {
   "cell_type": "code",
   "execution_count": 12,
   "metadata": {},
   "outputs": [
    {
     "name": "stdout",
     "output_type": "stream",
     "text": [
      "Building sklearn classifier...\n",
      "\n",
      " BertClassifier(bert_model='bert-base-multilingual-cased', epochs=3,\n",
      "               eval_batch_size=8, fp16=False, gradient_accumulation_steps=2,\n",
      "               label_list=None, learning_rate=2e-05, local_rank=-1,\n",
      "               logfile='bert_sklearn.log', loss_scale=0, max_seq_length=128,\n",
      "               num_mlp_hiddens=500, num_mlp_layers=0, random_state=42,\n",
      "               restore_file=None, train_batch_size=32, use_cuda=True,\n",
      "               validation_fraction=0.3, warmup_proportion=0.1) \n",
      "\n"
     ]
    },
    {
     "name": "stderr",
     "output_type": "stream",
     "text": [
      "100%|██████████████████████████████████████████████████████████████████████| 995526/995526 [00:00<00:00, 3499545.48B/s]\n"
     ]
    },
    {
     "name": "stdout",
     "output_type": "stream",
     "text": [
      "Loading bert-base-multilingual-cased model...\n"
     ]
    },
    {
     "name": "stderr",
     "output_type": "stream",
     "text": [
      "100%|████████████████████████████████████████████████████████████████| 662804195/662804195 [01:06<00:00, 9965462.09B/s]\n"
     ]
    },
    {
     "name": "stdout",
     "output_type": "stream",
     "text": [
      "Defaulting to linear classifier/regressor\n",
      "train data size: 2243, validation data size: 960\n"
     ]
    },
    {
     "name": "stderr",
     "output_type": "stream",
     "text": [
      "Training: 100%|██████████████████████████████████████████████████████████| 141/141 [32:41<00:00, 11.43s/it, loss=0.499]\n",
      "                                                                                                                       \r"
     ]
    },
    {
     "name": "stdout",
     "output_type": "stream",
     "text": [
      "Epoch 1, Train loss : 0.4987, Val loss: 0.4337, Val accy = 84.38%\n"
     ]
    },
    {
     "name": "stderr",
     "output_type": "stream",
     "text": [
      "Training: 100%|██████████████████████████████████████████████████████████| 141/141 [34:02<00:00, 10.44s/it, loss=0.472]\n",
      "                                                                                                                       \r"
     ]
    },
    {
     "name": "stdout",
     "output_type": "stream",
     "text": [
      "Epoch 2, Train loss : 0.4719, Val loss: 0.4368, Val accy = 84.38%\n"
     ]
    },
    {
     "name": "stderr",
     "output_type": "stream",
     "text": [
      "Training: 100%|██████████████████████████████████████████████████████████| 141/141 [31:38<00:00, 10.34s/it, loss=0.471]\n",
      "                                                                                                                       \r"
     ]
    },
    {
     "name": "stdout",
     "output_type": "stream",
     "text": [
      "Epoch 3, Train loss : 0.4715, Val loss: 0.4340, Val accy = 84.38%\n"
     ]
    },
    {
     "name": "stderr",
     "output_type": "stream",
     "text": [
      "                                                                                                                       \r"
     ]
    },
    {
     "name": "stdout",
     "output_type": "stream",
     "text": [
      "Accuracy: 83.85%\n"
     ]
    },
    {
     "name": "stderr",
     "output_type": "stream",
     "text": [
      "C:\\Users\\AP84590\\AppData\\Local\\Continuum\\anaconda3\\lib\\site-packages\\sklearn\\metrics\\classification.py:1437: UndefinedMetricWarning: Precision and F-score are ill-defined and being set to 0.0 in labels with no predicted samples.\n",
      "  'precision', 'predicted', average, warn_for)\n"
     ]
    },
    {
     "name": "stdout",
     "output_type": "stream",
     "text": [
      "              precision    recall  f1-score   support\n",
      "\n",
      "    negative       0.84      1.00      0.91      1791\n",
      "    positive       0.00      0.00      0.00       345\n",
      "\n",
      "    accuracy                           0.84      2136\n",
      "   macro avg       0.42      0.50      0.46      2136\n",
      "weighted avg       0.70      0.84      0.76      2136\n",
      "\n"
     ]
    },
    {
     "name": "stderr",
     "output_type": "stream",
     "text": [
      "C:\\Users\\AP84590\\AppData\\Local\\Continuum\\anaconda3\\lib\\site-packages\\sklearn\\metrics\\classification.py:872: RuntimeWarning: invalid value encountered in double_scalars\n",
      "  mcc = cov_ytyp / np.sqrt(cov_ytyt * cov_ypyp)\n"
     ]
    },
    {
     "name": "stdout",
     "output_type": "stream",
     "text": [
      "\n",
      "Mathews Correlation: 0.00\n"
     ]
    }
   ],
   "source": [
    "from sklearn.metrics import matthews_corrcoef\n",
    "\n",
    "X_train = sentences_train\n",
    "X_test = sentences_test\n",
    "\n",
    "# define model\n",
    "model = BertClassifier(bert_model='bert-base-multilingual-cased')\n",
    "model.epochs = 3\n",
    "model.validation_fraction = 0.3\n",
    "model.learning_rate = 2e-5\n",
    "model.max_seq_length = 128\n",
    "model.gradient_accumulation_steps = 2\n",
    "\n",
    "print('\\n',model,'\\n')\n",
    "\n",
    "# fit model\n",
    "model.fit(X_train, y_train)\n",
    "\n",
    "# test model on dev\n",
    "\n",
    "# make predictions\n",
    "y_pred = model.predict(X_test)\n",
    "print(\"Accuracy: %0.2f%%\"%(metrics.accuracy_score(y_pred,y_test) * 100))\n",
    "print(classification_report(y_test, y_pred, target_names=['negative','positive']))\n",
    "\n",
    "# Mathews correlation coefficient\n",
    "print(\"\\nMathews Correlation: %0.2f\"%(matthews_corrcoef(y_test, y_pred) * 100))"
   ]
  },
  {
   "cell_type": "code",
   "execution_count": null,
   "metadata": {},
   "outputs": [],
   "source": []
  }
 ],
 "metadata": {
  "kernelspec": {
   "display_name": "Python 3",
   "language": "python",
   "name": "python3"
  },
  "language_info": {
   "codemirror_mode": {
    "name": "ipython",
    "version": 3
   },
   "file_extension": ".py",
   "mimetype": "text/x-python",
   "name": "python",
   "nbconvert_exporter": "python",
   "pygments_lexer": "ipython3",
   "version": "3.7.4"
  }
 },
 "nbformat": 4,
 "nbformat_minor": 2
}
